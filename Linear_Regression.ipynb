{
 "cells": [
  {
   "cell_type": "markdown",
   "id": "440ba38f",
   "metadata": {},
   "source": [
    "# Linear Regression"
   ]
  },
  {
   "cell_type": "code",
   "execution_count": null,
   "id": "a11b79a4",
   "metadata": {},
   "outputs": [],
   "source": []
  },
  {
   "cell_type": "code",
   "execution_count": null,
   "id": "95e4dbaf",
   "metadata": {},
   "outputs": [],
   "source": [
    "https://www.kaggle.com/huseyinaktar/insurance-cost-prediction-linear-regression/notebook"
   ]
  },
  {
   "cell_type": "code",
   "execution_count": null,
   "id": "7d7d8f0c",
   "metadata": {},
   "outputs": [],
   "source": [
    "Which Price Influence the Price of Health Insurance?\n",
    "Many factors that affect how much you pay for health insurance are not within your control. Nonetheless, it's good to have an understanding of what they are. Here are asome factors that affect how much health insurance premiums cost.\n",
    "\n",
    "age: age of primary beneficiary\n",
    "sex: insurance contractor gender\n",
    "bmi: body mass index providing an understanding of body, weights that are relatively high or low relative to height, objective index of body weight (kg /m^2) using the ratio of height to weight, ideally 18.5 to 24.5\n",
    "children: Number of children covered by health insurance / Number of dependents.\n",
    "smoker: Smokers\n",
    "region: The beneficiary's residental area in the USA."
   ]
  },
  {
   "cell_type": "code",
   "execution_count": 128,
   "id": "b8afe612",
   "metadata": {},
   "outputs": [
    {
     "data": {
      "text/html": [
       "<div>\n",
       "<style scoped>\n",
       "    .dataframe tbody tr th:only-of-type {\n",
       "        vertical-align: middle;\n",
       "    }\n",
       "\n",
       "    .dataframe tbody tr th {\n",
       "        vertical-align: top;\n",
       "    }\n",
       "\n",
       "    .dataframe thead th {\n",
       "        text-align: right;\n",
       "    }\n",
       "</style>\n",
       "<table border=\"1\" class=\"dataframe\">\n",
       "  <thead>\n",
       "    <tr style=\"text-align: right;\">\n",
       "      <th></th>\n",
       "      <th>age</th>\n",
       "      <th>sex</th>\n",
       "      <th>bmi</th>\n",
       "      <th>children</th>\n",
       "      <th>smoker</th>\n",
       "      <th>charges</th>\n",
       "      <th>region_northwest</th>\n",
       "      <th>region_southeast</th>\n",
       "      <th>region_southwest</th>\n",
       "    </tr>\n",
       "  </thead>\n",
       "  <tbody>\n",
       "    <tr>\n",
       "      <th>0</th>\n",
       "      <td>0.121739</td>\n",
       "      <td>0</td>\n",
       "      <td>0.421227</td>\n",
       "      <td>0</td>\n",
       "      <td>1</td>\n",
       "      <td>0.351611</td>\n",
       "      <td>0</td>\n",
       "      <td>0</td>\n",
       "      <td>1</td>\n",
       "    </tr>\n",
       "    <tr>\n",
       "      <th>1</th>\n",
       "      <td>0.100000</td>\n",
       "      <td>1</td>\n",
       "      <td>0.579150</td>\n",
       "      <td>1</td>\n",
       "      <td>0</td>\n",
       "      <td>0.109636</td>\n",
       "      <td>0</td>\n",
       "      <td>1</td>\n",
       "      <td>0</td>\n",
       "    </tr>\n",
       "    <tr>\n",
       "      <th>2</th>\n",
       "      <td>0.317391</td>\n",
       "      <td>1</td>\n",
       "      <td>0.558434</td>\n",
       "      <td>3</td>\n",
       "      <td>0</td>\n",
       "      <td>0.153115</td>\n",
       "      <td>0</td>\n",
       "      <td>1</td>\n",
       "      <td>0</td>\n",
       "    </tr>\n",
       "    <tr>\n",
       "      <th>3</th>\n",
       "      <td>0.426087</td>\n",
       "      <td>1</td>\n",
       "      <td>0.281464</td>\n",
       "      <td>0</td>\n",
       "      <td>0</td>\n",
       "      <td>0.433010</td>\n",
       "      <td>1</td>\n",
       "      <td>0</td>\n",
       "      <td>0</td>\n",
       "    </tr>\n",
       "    <tr>\n",
       "      <th>4</th>\n",
       "      <td>0.404348</td>\n",
       "      <td>1</td>\n",
       "      <td>0.447592</td>\n",
       "      <td>0</td>\n",
       "      <td>0</td>\n",
       "      <td>0.143816</td>\n",
       "      <td>1</td>\n",
       "      <td>0</td>\n",
       "      <td>0</td>\n",
       "    </tr>\n",
       "  </tbody>\n",
       "</table>\n",
       "</div>"
      ],
      "text/plain": [
       "        age  sex       bmi  children  smoker   charges  region_northwest  \\\n",
       "0  0.121739    0  0.421227         0       1  0.351611                 0   \n",
       "1  0.100000    1  0.579150         1       0  0.109636                 0   \n",
       "2  0.317391    1  0.558434         3       0  0.153115                 0   \n",
       "3  0.426087    1  0.281464         0       0  0.433010                 1   \n",
       "4  0.404348    1  0.447592         0       0  0.143816                 1   \n",
       "\n",
       "   region_southeast  region_southwest  \n",
       "0                 0                 1  \n",
       "1                 1                 0  \n",
       "2                 1                 0  \n",
       "3                 0                 0  \n",
       "4                 0                 0  "
      ]
     },
     "metadata": {},
     "output_type": "display_data"
    }
   ],
   "source": [
    "import pandas as pd\n",
    "\n",
    "data = pd.read_csv('..\\Linear_Regression\\Data\\Scaled_Data.csv')\n",
    "data.drop(columns='Unnamed: 0', inplace=True)\n",
    "display(data.head())"
   ]
  },
  {
   "cell_type": "code",
   "execution_count": 129,
   "id": "4b0997f5",
   "metadata": {},
   "outputs": [
    {
     "name": "stdout",
     "output_type": "stream",
     "text": [
      "(1070, 8) (268, 8) (1070, 1) (268, 1)\n"
     ]
    }
   ],
   "source": [
    "from sklearn.model_selection import train_test_split\n",
    "x = data.loc[:, ['age', 'sex', 'bmi', 'children', 'smoker', 'region_northwest', 'region_southeast', 'region_southwest']]\n",
    "y = data.loc[:, ['charges']]\n",
    "\n",
    "x_tarin, x_test, y_train, y_test = train_test_split(x, y, test_size=0.2, random_state=11)\n",
    "\n",
    "print(x_tarin.shape, x_test.shape, y_train.shape, y_test.shape)"
   ]
  },
  {
   "cell_type": "code",
   "execution_count": 130,
   "id": "1ee92ed1",
   "metadata": {},
   "outputs": [],
   "source": [
    "from sklearn.linear_model import LinearRegression\n",
    "\n",
    "lr_model = LinearRegression()\n",
    "\n",
    "lr_model.fit(x_tarin, y_train)\n",
    "\n",
    "y_pred = lr_model.predict(x_test)\n",
    "# display(y_pred)"
   ]
  },
  {
   "cell_type": "code",
   "execution_count": 131,
   "id": "4a0a2e13",
   "metadata": {},
   "outputs": [
    {
     "name": "stdout",
     "output_type": "stream",
     "text": [
      "(268, 1) (268, 1)\n",
      "79.96633930323263\n",
      "79.96633930323263\n",
      "79.96635611428158\n"
     ]
    }
   ],
   "source": [
    "from sklearn.metrics import r2_score, explained_variance_score\n",
    "\n",
    "print(y_test.shape, y_pred.shape)\n",
    "\n",
    "print(r2_score(y_test, y_pred)*100)\n",
    "\n",
    "print(lr_model.score(x_test, y_test)*100)\n",
    "\n",
    "print(explained_variance_score(y_test, y_pred)*100)"
   ]
  },
  {
   "cell_type": "code",
   "execution_count": 132,
   "id": "9c2ad7cb",
   "metadata": {},
   "outputs": [
    {
     "name": "stdout",
     "output_type": "stream",
     "text": [
      "0.007078311640773767\n",
      "0.08413270256430473\n"
     ]
    }
   ],
   "source": [
    "from sklearn.metrics import mean_squared_error\n",
    "import math\n",
    "print(mean_squared_error(y_test, y_pred))\n",
    "print(math.sqrt(mean_squared_error(y_test, y_pred)))"
   ]
  },
  {
   "cell_type": "code",
   "execution_count": 136,
   "id": "6ccf96c3",
   "metadata": {},
   "outputs": [
    {
     "name": "stderr",
     "output_type": "stream",
     "text": [
      "C:\\Users\\RAMU\\anaconda3\\lib\\site-packages\\sklearn\\metrics\\_regression.py:682: UndefinedMetricWarning: R^2 score is not well-defined with less than two samples.\n",
      "  warnings.warn(msg, UndefinedMetricWarning)\n"
     ]
    },
    {
     "data": {
      "image/png": "[encoded data removed]",
      "text/plain": [
       "<Figure size 432x288 with 1 Axes>"
      ]
     },
     "metadata": {
      "needs_background": "light"
     },
     "output_type": "display_data"
    },
    {
     "name": "stderr",
     "output_type": "stream",
     "text": [
      "<ipython-input-136-9628df48d3e5>:28: RuntimeWarning: invalid value encountered in sqrt\n",
      "  plt.plot(np.sqrt(val_score), \"b-\", linewidth=3, label=\"val\")\n"
     ]
    },
    {
     "data": {
      "image/png": "[encoded data removed]",
      "text/plain": [
       "<Figure size 432x288 with 1 Axes>"
      ]
     },
     "metadata": {
      "needs_background": "light"
     },
     "output_type": "display_data"
    }
   ],
   "source": [
    "from sklearn.metrics import mean_squared_error\n",
    "from sklearn.model_selection import train_test_split\n",
    "from matplotlib import pyplot as plt\n",
    "import numpy as np\n",
    "\n",
    "def plot_learning_curves(model, X, y):\n",
    "    X_train, X_val, y_train, y_val = train_test_split(X, y, test_size=0.2)\n",
    "    train_errors, val_errors, train_score, val_score = [], [], [], []\n",
    "    \n",
    "    for m in range(1, len(X_train)):\n",
    "        model.fit(X_train[:m], y_train[:m])\n",
    "        \n",
    "        y_train_predict = model.predict(X_train[:m])\n",
    "        y_val_predict = model.predict(X_val)\n",
    "        \n",
    "        train_score.append(r2_score(y_train[:m], y_train_predict))\n",
    "        val_score.append(r2_score(y_val, y_val_predict))\n",
    "        \n",
    "        train_errors.append(mean_squared_error(y_train[:m], y_train_predict))\n",
    "        val_errors.append(mean_squared_error(y_val, y_val_predict))\n",
    "        \n",
    "        \n",
    "        \n",
    "    plt.plot(np.sqrt(train_errors), \"r-+\", linewidth=2, label=\"train\")\n",
    "    plt.plot(np.sqrt(val_errors), \"b-\", linewidth=2, label=\"val\")\n",
    "    plt.show()\n",
    "    plt.plot(np.sqrt(train_score), \"r-+\", linewidth=2, label=\"train\")\n",
    "    plt.plot(np.sqrt(val_score), \"b-\", linewidth=2, label=\"val\")\n",
    "    plt.show()\n",
    "    \n",
    "plot_learning_curves(lr_model, x, y)"
   ]
  },
  {
   "cell_type": "code",
   "execution_count": null,
   "id": "dc2727c4",
   "metadata": {},
   "outputs": [],
   "source": []
  }
 ],
 "metadata": {
  "kernelspec": {
   "display_name": "Python 3",
   "language": "python",
   "name": "python3"
  },
  "language_info": {
   "codemirror_mode": {
    "name": "ipython",
    "version": 3
   },
   "file_extension": ".py",
   "mimetype": "text/x-python",
   "name": "python",
   "nbconvert_exporter": "python",
   "pygments_lexer": "ipython3",
   "version": "3.8.3"
  }
 },
 "nbformat": 4,
 "nbformat_minor": 5
}
