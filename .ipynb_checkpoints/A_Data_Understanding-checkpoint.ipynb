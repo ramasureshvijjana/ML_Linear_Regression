{
 "cells": [
  {
   "cell_type": "markdown",
   "id": "b12c08e2",
   "metadata": {},
   "source": [
    "# Understand The Data"
   ]
  },
  {
   "cell_type": "code",
   "execution_count": null,
   "id": "a3a554ae",
   "metadata": {},
   "outputs": [],
   "source": [
    "1. Understanding data is the first step in Data Science/ML projects.\n",
    "2. This is the data of people, who took insurance.\n",
    "3. Performing steps in this file:\n",
    "    \n",
    "    1. Load Data\n",
    "    2. Columns Details\n",
    "    3. Data Dimension\n",
    "    4. Checking Null Values\n",
    "    5. Data Types Of Each Column"
   ]
  },
  {
   "cell_type": "markdown",
   "id": "d6042fe9",
   "metadata": {},
   "source": [
    "### 1. Load Data"
   ]
  },
  {
   "cell_type": "code",
   "execution_count": 1,
   "id": "ba5c81bd",
   "metadata": {},
   "outputs": [
    {
     "data": {
      "text/html": [
       "<div>\n",
       "<style scoped>\n",
       "    .dataframe tbody tr th:only-of-type {\n",
       "        vertical-align: middle;\n",
       "    }\n",
       "\n",
       "    .dataframe tbody tr th {\n",
       "        vertical-align: top;\n",
       "    }\n",
       "\n",
       "    .dataframe thead th {\n",
       "        text-align: right;\n",
       "    }\n",
       "</style>\n",
       "<table border=\"1\" class=\"dataframe\">\n",
       "  <thead>\n",
       "    <tr style=\"text-align: right;\">\n",
       "      <th></th>\n",
       "      <th>age</th>\n",
       "      <th>sex</th>\n",
       "      <th>bmi</th>\n",
       "      <th>children</th>\n",
       "      <th>smoker</th>\n",
       "      <th>region</th>\n",
       "      <th>charges</th>\n",
       "    </tr>\n",
       "  </thead>\n",
       "  <tbody>\n",
       "    <tr>\n",
       "      <th>0</th>\n",
       "      <td>19</td>\n",
       "      <td>female</td>\n",
       "      <td>27.900</td>\n",
       "      <td>0</td>\n",
       "      <td>yes</td>\n",
       "      <td>southwest</td>\n",
       "      <td>16884.92400</td>\n",
       "    </tr>\n",
       "    <tr>\n",
       "      <th>1</th>\n",
       "      <td>18</td>\n",
       "      <td>male</td>\n",
       "      <td>33.770</td>\n",
       "      <td>1</td>\n",
       "      <td>no</td>\n",
       "      <td>southeast</td>\n",
       "      <td>1725.55230</td>\n",
       "    </tr>\n",
       "    <tr>\n",
       "      <th>2</th>\n",
       "      <td>28</td>\n",
       "      <td>male</td>\n",
       "      <td>33.000</td>\n",
       "      <td>3</td>\n",
       "      <td>no</td>\n",
       "      <td>southeast</td>\n",
       "      <td>4449.46200</td>\n",
       "    </tr>\n",
       "    <tr>\n",
       "      <th>3</th>\n",
       "      <td>33</td>\n",
       "      <td>male</td>\n",
       "      <td>22.705</td>\n",
       "      <td>0</td>\n",
       "      <td>no</td>\n",
       "      <td>northwest</td>\n",
       "      <td>21984.47061</td>\n",
       "    </tr>\n",
       "    <tr>\n",
       "      <th>4</th>\n",
       "      <td>32</td>\n",
       "      <td>male</td>\n",
       "      <td>28.880</td>\n",
       "      <td>0</td>\n",
       "      <td>no</td>\n",
       "      <td>northwest</td>\n",
       "      <td>3866.85520</td>\n",
       "    </tr>\n",
       "  </tbody>\n",
       "</table>\n",
       "</div>"
      ],
      "text/plain": [
       "   age     sex     bmi  children smoker     region      charges\n",
       "0   19  female  27.900         0    yes  southwest  16884.92400\n",
       "1   18    male  33.770         1     no  southeast   1725.55230\n",
       "2   28    male  33.000         3     no  southeast   4449.46200\n",
       "3   33    male  22.705         0     no  northwest  21984.47061\n",
       "4   32    male  28.880         0     no  northwest   3866.85520"
      ]
     },
     "metadata": {},
     "output_type": "display_data"
    }
   ],
   "source": [
    "import pandas as pd\n",
    "\n",
    "data = pd.read_csv('..\\Linear_Regression\\Data\\insurance.csv')\n",
    "display(data.head())"
   ]
  },
  {
   "cell_type": "markdown",
   "id": "fb703148",
   "metadata": {},
   "source": [
    "### 2. Columns Details"
   ]
  },
  {
   "cell_type": "code",
   "execution_count": 2,
   "id": "34dfdc09",
   "metadata": {},
   "outputs": [
    {
     "name": "stdout",
     "output_type": "stream",
     "text": [
      "Index(['age', 'sex', 'bmi', 'children', 'smoker', 'region', 'charges'], dtype='object')\n"
     ]
    }
   ],
   "source": [
    "# Print column names\n",
    "print(data.columns)"
   ]
  },
  {
   "cell_type": "code",
   "execution_count": null,
   "id": "2e91b0d7",
   "metadata": {},
   "outputs": [],
   "source": [
    "# Details of all columns:\n",
    "\n",
    "=> age: age of primary beneficiary.\n",
    "    \n",
    "=> sex: insurance contractor gender.\n",
    "    \n",
    "=> bmi: body mass index providing an understanding of body, weights that are relatively high or low relative to height,\n",
    "        objective index of body weight (kg /m^2) using the ratio of height to weight, ideally 18.5 to 24.5\n",
    "        \n",
    "=> children: Number of children covered by health insurance / Number of dependents.\n",
    "    \n",
    "=> smoker: Smokers.\n",
    "    \n",
    "=> region: The beneficiary's residental area in the USA.\n",
    "    "
   ]
  },
  {
   "cell_type": "markdown",
   "id": "e61f7070",
   "metadata": {},
   "source": [
    "### 3. Data Dimension"
   ]
  },
  {
   "cell_type": "code",
   "execution_count": 3,
   "id": "286f5180",
   "metadata": {},
   "outputs": [
    {
     "name": "stdout",
     "output_type": "stream",
     "text": [
      "(1338, 7)\n"
     ]
    }
   ],
   "source": [
    "print(data.shape)\n",
    "\n",
    "# print(len(data.index), len(data.columns))"
   ]
  },
  {
   "cell_type": "code",
   "execution_count": null,
   "id": "160f9895",
   "metadata": {},
   "outputs": [],
   "source": [
    "=> Data have 1338 records(rows).\n",
    "=> And 7 columns."
   ]
  },
  {
   "cell_type": "markdown",
   "id": "049baef0",
   "metadata": {},
   "source": [
    "### 4. Checking Null Values"
   ]
  },
  {
   "cell_type": "code",
   "execution_count": 4,
   "id": "6fe3a422",
   "metadata": {},
   "outputs": [
    {
     "name": "stdout",
     "output_type": "stream",
     "text": [
      "age         0\n",
      "sex         0\n",
      "bmi         0\n",
      "children    0\n",
      "smoker      0\n",
      "region      0\n",
      "charges     0\n",
      "dtype: int64\n"
     ]
    }
   ],
   "source": [
    "# Checking Null values in each column.\n",
    "print(data.isnull().sum())"
   ]
  },
  {
   "cell_type": "code",
   "execution_count": 5,
   "id": "3fb9eee3",
   "metadata": {},
   "outputs": [
    {
     "name": "stdout",
     "output_type": "stream",
     "text": [
      "age         0.0\n",
      "sex         0.0\n",
      "bmi         0.0\n",
      "children    0.0\n",
      "smoker      0.0\n",
      "region      0.0\n",
      "charges     0.0\n",
      "dtype: float64\n"
     ]
    }
   ],
   "source": [
    "# Checking % of Null values in each column.\n",
    "print(data.isnull().mean()*100)"
   ]
  },
  {
   "cell_type": "code",
   "execution_count": null,
   "id": "6591031d",
   "metadata": {},
   "outputs": [],
   "source": [
    "=> No Null values in the data, perfect."
   ]
  },
  {
   "cell_type": "markdown",
   "id": "1361d95f",
   "metadata": {},
   "source": [
    "### 5. Data Types Of Each Column"
   ]
  },
  {
   "cell_type": "code",
   "execution_count": 6,
   "id": "799b9351",
   "metadata": {},
   "outputs": [
    {
     "name": "stdout",
     "output_type": "stream",
     "text": [
      "age           int64\n",
      "sex          object\n",
      "bmi         float64\n",
      "children      int64\n",
      "smoker       object\n",
      "region       object\n",
      "charges     float64\n",
      "dtype: object\n"
     ]
    }
   ],
   "source": [
    "print(data.dtypes)"
   ]
  },
  {
   "cell_type": "markdown",
   "id": "96a7aafc",
   "metadata": {},
   "source": [
    "### Note:"
   ]
  },
  {
   "cell_type": "code",
   "execution_count": null,
   "id": "6ee4ad5b",
   "metadata": {},
   "outputs": [],
   "source": [
    "1. Now move to data preprocessing.\n",
    "2. First will do categorical handling.\n",
    "3. And second, will move to the Label encoding part."
   ]
  }
 ],
 "metadata": {
  "kernelspec": {
   "display_name": "Python 3",
   "language": "python",
   "name": "python3"
  },
  "language_info": {
   "codemirror_mode": {
    "name": "ipython",
    "version": 3
   },
   "file_extension": ".py",
   "mimetype": "text/x-python",
   "name": "python",
   "nbconvert_exporter": "python",
   "pygments_lexer": "ipython3",
   "version": "3.8.3"
  }
 },
 "nbformat": 4,
 "nbformat_minor": 5
}
